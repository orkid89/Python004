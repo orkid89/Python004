{
 "cells": [
  {
   "cell_type": "code",
   "execution_count": 35,
   "metadata": {},
   "outputs": [],
   "source": [
    "import requests\n",
    "import lxml.etree\n",
    "import re \n",
    "import pandas as pd\n",
    "from bs4 import BeautifulSoup as bs\n",
    "from fake_useragent import UserAgent\n",
    "import pandas as pd\n",
    "\n",
    "ua = UserAgent(verify_ssl = False)\n",
    "url = 'https://maoyan.com/films?showType=3&sortId=3'\n",
    "user_agent = ua.random\n",
    "header = {}\n",
    "\n",
    "header['user-agent'] = user_agent\n",
    "\n",
    "response = requests.get(url, headers=header)\n",
    "\n",
    "bs_info = bs(response.text,'html.parser')\n",
    "\n",
    "movie_list = []\n",
    "data = bs_info.find_all('dd')[:10]\n",
    "    #获取链接\n",
    "for dd in data:\n",
    "    tag = dd.find('a')['href']\n",
    "    for atag in tag:\n",
    "        #访问连接\n",
    "        linkinfo = requests.get('https://maoyan.com%s'%(atag), headers=header)\n",
    "        selector = lxml.etree.HTML(linkinfo.text)\n",
    "        #电影名字\n",
    "        moive_name = selector.xpath('/html/body/div[3]/div/div[2]/div[1]/h1/text()')\n",
    "        #电影类型\n",
    "        moive_type = selector.xpath('/html/body/div[3]/div/div[2]/div[1]/ul/li[1]/text()')\n",
    "        #电影上映时间\n",
    "        movie_time = selector.xpath('/html/body/div[3]/div/div[2]/div[1]/ul/li[3]/text()')\n",
    "\n",
    "        mylist = [moive_name,moive_type,movie_time]\n",
    "        \n",
    "        movie_list.append(mylist)\n",
    "        movie = pd.DataFrame(data = movie_list)\n",
    "\n",
    "        movie.to_csv('./movie1.csv',encoding='utf8',index=False,header=False)\n",
    "\n",
    "            \n",
    "    "
   ]
  },
  {
   "cell_type": "code",
   "execution_count": 34,
   "metadata": {},
   "outputs": [
    {
     "name": "stdout",
     "output_type": "stream",
     "text": [
      "/films/588362\n",
      "/films/1277939\n",
      "/films/344264\n",
      "/films/78405\n",
      "/films/1211270\n",
      "/films/1200486\n",
      "/films/342068\n",
      "/films/6823\n",
      "/films/1217637\n",
      "/films/1187517\n"
     ]
    }
   ],
   "source": [
    "for dd in data:\n",
    "    atag = dd.find('a')['href']\n",
    "    print(atag)"
   ]
  },
  {
   "cell_type": "code",
   "execution_count": null,
   "metadata": {},
   "outputs": [],
   "source": []
  }
 ],
 "metadata": {
  "kernelspec": {
   "display_name": "Python 3",
   "language": "python",
   "name": "python3"
  },
  "language_info": {
   "codemirror_mode": {
    "name": "ipython",
    "version": 3
   },
   "file_extension": ".py",
   "mimetype": "text/x-python",
   "name": "python",
   "nbconvert_exporter": "python",
   "pygments_lexer": "ipython3",
   "version": "3.7.3"
  }
 },
 "nbformat": 4,
 "nbformat_minor": 4
}
