{
 "cells": [
  {
   "cell_type": "code",
   "execution_count": null,
   "metadata": {},
   "outputs": [],
   "source": [
    "import requests\n",
    "import lxml.etree\n",
    "import re \n",
    "import pandas as pd\n",
    "from bs4 import BeautifulSoup as bs\n",
    "\n",
    "url = 'https://maoyan.com/films?showType=3&sortId=3'\n",
    "user_agent = 'Mozilla/5.0 (Macintosh; Intel Mac OS X 10_14_2) \\\n",
    "    AppleWebKit/537.36 (KHTML, like Gecko)'\n",
    "header = {}\n",
    "\n",
    "header['user-agent'] = user_agent\n",
    "\n",
    "response = requests.get(url, headers=header)\n",
    "\n",
    "bs_info = bs(response.text,'html.parser')\n",
    "\n",
    "urg_list = []\n",
    "while len(urg_list)<10:\n",
    "    \n",
    "    for tag in bs_info.find_all('dd'):\n",
    "        for atag in tag.find('a'):\n",
    "            #获取链接后缀\n",
    "            urg = re.findall(r'<a href=\"(/\\w+/\\d+)\"',atag,re.S)\n",
    "            print(urg)\n",
    "        #获取链接\n",
    "            aurg = 'https://maoyan.com'+ 's%'+'/' + 's%'%(urg[0],urg[1])\n",
    "            \n",
    "            urg_list.append(aurg)\n",
    "        \n",
    "            #\n",
    "            response_1 = requests.get(aurg, headers=header)\n",
    "            selector_1 = lxml.etree.HTML(response_1.text)\n",
    "            #电影名字\n",
    "            file_name = selector.xpath('/html/body/div[3]/div/div[2]/div[1]/h1/text()')\n",
    "\n",
    "            print(f'电影名字:{file_name}')\n",
    "\n",
    "            #上映日期\n",
    "            plan_date = selector.xpath('/html/body/div[3]/div/div[2]/div[1]/ul/li[3]/text()')\n",
    "\n",
    "            print(f'上映日期:{plan_date}')\n",
    "\n",
    "            #评分\n",
    "            rating = selector.xpath('//html/body/div[3]/div/div[2]/div[3]/div[1]/div/span/span/text()')\n",
    "\n",
    "            print(f'评分:{rating}')\n",
    "             \n",
    "            mylist = [file_name,plan_date,rating]\n",
    "\n",
    "            movie = pd.DataFrame(data = mylist)\n",
    "\n",
    "            movie.to_csv('./movie1.csv',encoding='utf8',index=False,header=False) "
   ]
  }
 ],
 "metadata": {
  "kernelspec": {
   "display_name": "Python 3",
   "language": "python",
   "name": "python3"
  },
  "language_info": {
   "codemirror_mode": {
    "name": "ipython",
    "version": 3
   },
   "file_extension": ".py",
   "mimetype": "text/x-python",
   "name": "python",
   "nbconvert_exporter": "python",
   "pygments_lexer": "ipython3",
   "version": "3.7.3"
  }
 },
 "nbformat": 4,
 "nbformat_minor": 4
}
