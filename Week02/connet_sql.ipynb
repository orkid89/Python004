{
 "cells": [
  {
   "cell_type": "code",
   "execution_count": 20,
   "metadata": {},
   "outputs": [],
   "source": [
    "import pymysql\n",
    "\n",
    "dbinfo = {\n",
    "    'host':'localhost',\n",
    "    'port':3306,\n",
    "    'user':'root',\n",
    "    'password':'zx891225',\n",
    "    'db':'testdb'\n",
    "    \n",
    "}\n",
    "sqls = ['select 1','select version']\n",
    "\n",
    "result = []\n",
    "class Conndb(object):\n",
    "    def __init__(self,dbinfo,sql):\n",
    "        self.host = dbinfo['host']\n",
    "        self.port = dbinfo['port']\n",
    "        self.user = dbinfo['user']\n",
    "        self.password = dbinfo['password']\n",
    "        self.db = dbinfo['db']\n",
    "        self.sqls = sqls\n",
    "        \n",
    "    def run(self):\n",
    "        conn = pymysql.connect(\n",
    "            host = self.host,\n",
    "            port = self.port,\n",
    "            user = self.user,\n",
    "            password = self.password,\n",
    "            database = self.db,\n",
    "            charst = 'utf8mb4')\n",
    "        cur = conn.cursor()\n",
    "        try :\n",
    "            for command in self.sqls():\n",
    "                cur.execute(command)\n",
    "                result.append(cur.fetchone())\n",
    "            cur.close()\n",
    "            cur.commit()\n",
    "            \n",
    "        except:\n",
    "            conn.rollback()\n",
    "            \n",
    "        conn.close()\n",
    "        \n",
    "if __name__ == \"__mian__\":\n",
    "    db = Conndb(dbinfo,sqls)\n",
    "    db.run()\n",
    "    print(result)\n",
    "\n",
    "    "
   ]
  },
  {
   "cell_type": "code",
   "execution_count": 3,
   "metadata": {},
   "outputs": [
    {
     "name": "stdout",
     "output_type": "stream",
     "text": [
      "Chrome浏览器:Mozilla/5.0 (Windows NT 6.2; WOW64) AppleWebKit/537.36 (KHTML, like Gecko) Chrome/27.0.1500.55 Safari/537.36\n",
      "随机浏览器:Mozilla/5.0 (Windows NT 4.0; WOW64) AppleWebKit/537.36 (KHTML, like Gecko) Chrome/37.0.2049.0 Safari/537.36\n",
      "Mozilla/5.0 (Windows NT 5.1) AppleWebKit/537.36 (KHTML, like Gecko) Chrome/36.0.1985.67 Safari/537.36\n"
     ]
    }
   ],
   "source": [
    "from fake_useragent import UserAgent\n",
    "ua = UserAgent(verify_ssl = False)\n",
    "#模拟不同的浏览器\n",
    "print(f'Chrome浏览器:{ua.chrome}')\n",
    "#print(ua.safar)\n",
    "#print(ua.ie)\n",
    "#随机返回头部信息\n",
    "print(f'随机浏览器:{ua.random}')\n",
    "print(ua.random)"
   ]
  },
  {
   "cell_type": "code",
   "execution_count": 3,
   "metadata": {},
   "outputs": [
    {
     "data": {
      "text/plain": [
       "{'args': {},\n",
       " 'data': '',\n",
       " 'files': {},\n",
       " 'form': {'key': 'value'},\n",
       " 'headers': {'Accept': '*/*',\n",
       "  'Accept-Encoding': 'gzip, deflate',\n",
       "  'Content-Length': '9',\n",
       "  'Content-Type': 'application/x-www-form-urlencoded',\n",
       "  'Host': 'httpbin.org',\n",
       "  'User-Agent': 'python-requests/2.22.0',\n",
       "  'X-Amzn-Trace-Id': 'Root=1-5f782126-22da75bb00dc29644fb56c74'},\n",
       " 'json': None,\n",
       " 'origin': '111.27.24.52',\n",
       " 'url': 'http://httpbin.org/post'}"
      ]
     },
     "execution_count": 3,
     "metadata": {},
     "output_type": "execute_result"
    }
   ],
   "source": [
    "import requests\n",
    "r = requests.get('https://github.com')\n",
    "r.status_code\n",
    "r.headers['content-type']\n",
    "#r.text\n",
    "r.encoding\n",
    "#r.json()\n",
    "#http 协议POST方法\n",
    "r = requests.post('http://httpbin.org/post',data = {'key':'value'})\n",
    "r.json()\n"
   ]
  },
  {
   "cell_type": "code",
   "execution_count": 8,
   "metadata": {},
   "outputs": [
    {
     "name": "stdout",
     "output_type": "stream",
     "text": [
      "{\n",
      "  \"cookies\": {\n",
      "    \"sessioncookies\": \"123456789\"\n",
      "  }\n",
      "}\n",
      "\n"
     ]
    }
   ],
   "source": [
    "import requests\n",
    "s = requests.Session()\n",
    "s.get('http://httpbin.org/cookies/set/sessioncookies/123456789')\n",
    "r = s.get('http://httpbin.org/cookies')\n",
    "print(r.text)\n",
    "with requests.Session() as s:\n",
    "    s.get('http://httpbin.org/cookies/set/sessioncookies/123456789')"
   ]
  },
  {
   "cell_type": "code",
   "execution_count": 1,
   "metadata": {},
   "outputs": [
    {
     "ename": "ModuleNotFoundError",
     "evalue": "No module named 'scrapy'",
     "output_type": "error",
     "traceback": [
      "\u001b[0;31m---------------------------------------------------------------------------\u001b[0m",
      "\u001b[0;31mModuleNotFoundError\u001b[0m                       Traceback (most recent call last)",
      "\u001b[0;32m<ipython-input-1-b0cdbfb0a3cf>\u001b[0m in \u001b[0;36m<module>\u001b[0;34m()\u001b[0m\n\u001b[0;32m----> 1\u001b[0;31m \u001b[0;32mimport\u001b[0m \u001b[0mscrapy\u001b[0m\u001b[0;34m\u001b[0m\u001b[0m\n\u001b[0m\u001b[1;32m      2\u001b[0m \u001b[0;32mclass\u001b[0m \u001b[0mHttpbinSpider\u001b[0m\u001b[0;34m(\u001b[0m\u001b[0mscrapy\u001b[0m\u001b[0;34m.\u001b[0m\u001b[0mSpider\u001b[0m\u001b[0;34m)\u001b[0m\u001b[0;34m:\u001b[0m\u001b[0;34m\u001b[0m\u001b[0m\n\u001b[1;32m      3\u001b[0m     \u001b[0mname\u001b[0m \u001b[0;34m=\u001b[0m \u001b[0;34m'httpbin'\u001b[0m\u001b[0;34m\u001b[0m\u001b[0m\n\u001b[1;32m      4\u001b[0m     \u001b[0mallowed_domains\u001b[0m \u001b[0;34m=\u001b[0m \u001b[0;34m[\u001b[0m\u001b[0;34m'httpbin.org'\u001b[0m\u001b[0;34m]\u001b[0m\u001b[0;34m\u001b[0m\u001b[0m\n\u001b[1;32m      5\u001b[0m     \u001b[0mstar_urls\u001b[0m \u001b[0;34m=\u001b[0m \u001b[0;34m[\u001b[0m\u001b[0;34m'http://httpbin.org/ip'\u001b[0m\u001b[0;34m]\u001b[0m\u001b[0;34m\u001b[0m\u001b[0m\n",
      "\u001b[0;31mModuleNotFoundError\u001b[0m: No module named 'scrapy'"
     ]
    }
   ],
   "source": [
    "import scrapy\n",
    "class HttpbinSpider(scrapy.Spider):\n",
    "    name = 'httpbin'\n",
    "    allowed_domains = ['httpbin.org']\n",
    "    star_urls = ['http://httpbin.org/ip']\n",
    "    def parse(self,reponse):\n",
    "        print(reponse.text)"
   ]
  },
  {
   "cell_type": "code",
   "execution_count": 1,
   "metadata": {},
   "outputs": [
    {
     "ename": "NameError",
     "evalue": "name 'configPath' is not defined",
     "output_type": "error",
     "traceback": [
      "\u001b[0;31m---------------------------------------------------------------------------\u001b[0m",
      "\u001b[0;31mNameError\u001b[0m                                 Traceback (most recent call last)",
      "\u001b[0;32m<ipython-input-1-5950c434fd49>\u001b[0m in \u001b[0;36m<module>\u001b[0;34m\u001b[0m\n\u001b[1;32m      1\u001b[0m \u001b[0;32mimport\u001b[0m \u001b[0mos\u001b[0m\u001b[0;34m,\u001b[0m\u001b[0mconfigparser\u001b[0m\u001b[0;34m\u001b[0m\u001b[0;34m\u001b[0m\u001b[0m\n\u001b[1;32m      2\u001b[0m \u001b[0mconf\u001b[0m \u001b[0;34m=\u001b[0m \u001b[0mconfigparser\u001b[0m\u001b[0;34m.\u001b[0m\u001b[0mConfigParser\u001b[0m\u001b[0;34m(\u001b[0m\u001b[0;34m)\u001b[0m \u001b[0;31m#读取配置文件\u001b[0m\u001b[0;34m\u001b[0m\u001b[0;34m\u001b[0m\u001b[0m\n\u001b[0;32m----> 3\u001b[0;31m \u001b[0mconf\u001b[0m\u001b[0;34m.\u001b[0m\u001b[0mread\u001b[0m\u001b[0;34m(\u001b[0m\u001b[0mconfigPath\u001b[0m\u001b[0;34m)\u001b[0m\u001b[0;34m\u001b[0m\u001b[0;34m\u001b[0m\u001b[0m\n\u001b[0m\u001b[1;32m      4\u001b[0m \u001b[0mcur_path\u001b[0m \u001b[0;34m=\u001b[0m \u001b[0mos\u001b[0m\u001b[0;34m.\u001b[0m\u001b[0mpath\u001b[0m\u001b[0;34m.\u001b[0m\u001b[0mdirname\u001b[0m\u001b[0;34m(\u001b[0m\u001b[0mos\u001b[0m\u001b[0;34m.\u001b[0m\u001b[0mpath\u001b[0m\u001b[0;34m.\u001b[0m\u001b[0mrealpath\u001b[0m\u001b[0;34m(\u001b[0m\u001b[0;34m'sqlconfig.ini'\u001b[0m\u001b[0;34m)\u001b[0m\u001b[0;34m)\u001b[0m \u001b[0;31m#读取配置文件目录\u001b[0m\u001b[0;34m\u001b[0m\u001b[0;34m\u001b[0m\u001b[0m\n\u001b[1;32m      5\u001b[0m \u001b[0mconfigPath\u001b[0m \u001b[0;34m=\u001b[0m \u001b[0mos\u001b[0m\u001b[0;34m.\u001b[0m\u001b[0mpath\u001b[0m\u001b[0;34m.\u001b[0m\u001b[0mjoin\u001b[0m\u001b[0;34m(\u001b[0m\u001b[0mcur_path\u001b[0m\u001b[0;34m,\u001b[0m\u001b[0;34m'sqlconfig.ini'\u001b[0m\u001b[0;34m)\u001b[0m\u001b[0;34m\u001b[0m\u001b[0;34m\u001b[0m\u001b[0m\n",
      "\u001b[0;31mNameError\u001b[0m: name 'configPath' is not defined"
     ]
    }
   ],
   "source": [
    "import os,configparser\n",
    "conf = configparser.ConfigParser() #读取配置文件\n",
    "#conf.read(configPath)\n",
    "cur_path = os.path.dirname(os.path.realpath('sqlconfig.ini')) #读取配置文件目录\n",
    "configPath = os.path.join(cur_path,'sqlconfig.ini')\n",
    "print(configPath)\n",
    "#option = conf.options('db')\n",
    "secs = cf.sections()  # 获取文件中所有的section(一个配置文件中可以有多个配置，如数据库相关的配置，邮箱相关的配置，\n",
    "                        #每个section由[]包裹，即[section])，并以列表的形式返回\n",
    "print(secs)"
   ]
  },
  {
   "cell_type": "code",
   "execution_count": null,
   "metadata": {},
   "outputs": [],
   "source": [
    "import pymysql\n",
    "import re \n",
    "#增加一个数据表\n",
    "sql = creat table moiveinfo (movie_title varchar(100),date_time varchar(100),movie_type varchar(100))\n",
    "\n",
    "#打开配置文件，获取数据库信息\n",
    "with open('/Users/xuezhong/Python004/Week02/maoyan02/maoyan02/sqlconfig.txt','r') as f:\n",
    "    a = f.read()\n",
    "    \n",
    "host = re.findall(r'host = (.*)',a)\n",
    "prot = re.findall(r'port = (.*)',a)\n",
    "user = re.findall(r'user = (.*)',a)\n",
    "password = re.findall(r'password = (.*)',a)\n",
    "db = re.findall(r'db = (.*)',a)"
   ]
  },
  {
   "cell_type": "code",
   "execution_count": null,
   "metadata": {},
   "outputs": [],
   "source": [
    "import time\n",
    "import requests\n",
    "from fake_useragent import UserAgent\n",
    "ua = UserAgent(verify_ssl = False)\n",
    "header = {\n",
    "    'User-agent':ua.random\n",
    "    'refer':'https://shimo.im'\n",
    "}\n",
    "s = requests.Session()\n",
    "login_url = 'https://shimo.im/login?from=home'\n",
    "from_data = {\n",
    "    'mobile': '+8618511575501',\n",
    "    'password': 'zx314159',\n",
    "}\n",
    "\n",
    "response = s.post(login_url,data = from_data, headers = headers)"
   ]
  },
  {
   "cell_type": "code",
   "execution_count": 13,
   "metadata": {},
   "outputs": [
    {
     "name": "stdout",
     "output_type": "stream",
     "text": [
      "Message: 'chromedriver' executable needs to be in PATH. Please see https://sites.google.com/a/chromium.org/chromedriver/home\n",
      "\n"
     ]
    },
    {
     "ename": "NameError",
     "evalue": "name 'browser' is not defined",
     "output_type": "error",
     "traceback": [
      "\u001b[0;31m---------------------------------------------------------------------------\u001b[0m",
      "\u001b[0;31mNameError\u001b[0m                                 Traceback (most recent call last)",
      "\u001b[0;32m<ipython-input-13-980f32ff10a9>\u001b[0m in \u001b[0;36m<module>\u001b[0;34m()\u001b[0m\n\u001b[1;32m     23\u001b[0m \u001b[0;34m\u001b[0m\u001b[0m\n\u001b[1;32m     24\u001b[0m \u001b[0;32mfinally\u001b[0m\u001b[0;34m:\u001b[0m\u001b[0;34m\u001b[0m\u001b[0m\n\u001b[0;32m---> 25\u001b[0;31m     \u001b[0mbrowser\u001b[0m\u001b[0;34m.\u001b[0m\u001b[0mclose\u001b[0m\u001b[0;34m(\u001b[0m\u001b[0;34m)\u001b[0m\u001b[0;34m\u001b[0m\u001b[0m\n\u001b[0m\u001b[1;32m     26\u001b[0m \u001b[0;34m\u001b[0m\u001b[0m\n",
      "\u001b[0;31mNameError\u001b[0m: name 'browser' is not defined"
     ]
    }
   ],
   "source": [
    "from selenium import webdriver\n",
    "import time\n",
    "try:\n",
    "    browser = webdriver.Chrome()\n",
    "    browser.get('https://www.douban.com/')\n",
    "    time.sleep(1)\n",
    "    \n",
    "    browser.switch_to_frame(browser.find_elements_by_tag_name('iframe')[0])\n",
    "    html = browser.find_element_by_xpath('/html/body/div[1]/div[1]/ul[1]/li[2]')\n",
    "    html.click()\n",
    "    \n",
    "    browser.find_element_by_xpath('//*[@id=\"username\"]').send_keys('18511575501')\n",
    "    browser.find_element_by_id('password').send_keys('zx891225')\n",
    "    time.sleep(1)\n",
    "    browser.find_element_by_xpath('//a[contains(@class,\"btn-account\")]').click()\n",
    "    \n",
    "    cookies = browser.get_cookies()\n",
    "    \n",
    "    print(cookies)\n",
    "    time.sleep(3)\n",
    "except Exception as e:\n",
    "    print(e)\n",
    "    \n",
    "finally:\n",
    "    browser.close()\n",
    "    "
   ]
  },
  {
   "cell_type": "code",
   "execution_count": 22,
   "metadata": {},
   "outputs": [
    {
     "data": {
      "text/plain": [
       "['/Users/xuezhong/Python004/Week02',\n",
       " '/Users/xuezhong/anaconda3/lib/python37.zip',\n",
       " '/Users/xuezhong/anaconda3/lib/python3.7',\n",
       " '/Users/xuezhong/anaconda3/lib/python3.7/lib-dynload',\n",
       " '',\n",
       " '/Users/xuezhong/anaconda3/lib/python3.7/site-packages',\n",
       " '/Users/xuezhong/anaconda3/lib/python3.7/site-packages/aeosa',\n",
       " '/Users/xuezhong/anaconda3/lib/python3.7/site-packages/IPython/extensions',\n",
       " '/Users/xuezhong/.ipython']"
      ]
     },
     "execution_count": 22,
     "metadata": {},
     "output_type": "execute_result"
    }
   ],
   "source": [
    "import requests\n",
    "from fake_useragent import UserAgent\n",
    "from PIL import Image\n",
    "import pytesseract\n",
    "\n",
    "ua = UserAgent(verify_ssl = False)\n",
    "headers = {\n",
    "    'User-agent':ua.random\n",
    "    'refer':'https://shimo.im'\n",
    "}\n",
    "session = requests.Session()\n",
    "\n",
    "login_url = 'https://shimo.im/login?from=home'\n",
    "#获取图片\n",
    "r = session.get(url = login_url, headers=headers)\n",
    "img_url = r.xpath('/html/body/div[3]/div[2]/div[6]/div/div/div[2]/div[1]/div/div[2]/img')\n",
    "\n",
    "r2 =  session.get(url = img_url, headers=headers)\n",
    "\n",
    "with open('cap.jpg','wb') as f:\n",
    "    f.write(r2.content)\n",
    "\n",
    "im = Image.open('cap.jpg')\n",
    "im.show\n"
   ]
  },
  {
   "cell_type": "code",
   "execution_count": 12,
   "metadata": {},
   "outputs": [],
   "source": [
    "from PIL import Image\n",
    "import pytesseract\n",
    "im = Image.open('cat.png')\n",
    "im.show\n",
    "#灰度图片\n",
    "gray = im.convert('L')\n",
    "gray.save('c_gray.jpg')\n",
    "im.close()\n",
    "#二维化\n",
    "threshold=130\n",
    "table = []\n",
    "\n",
    "for i in range(256):\n",
    "    if i < threshold:\n",
    "        table.append(1)\n",
    "    else:\n",
    "        table.append(0)\n",
    "out = gray.point(table,'1')  \n",
    "out.save('d_gray.jpg')\n",
    "\n",
    "th = Image.open('d_gray.jpg')\n",
    "#print(pytesseract.image_to_string(th,lang = 'chi_sim+eng'))"
   ]
  },
  {
   "cell_type": "code",
   "execution_count": null,
   "metadata": {},
   "outputs": [],
   "source": []
  }
 ],
 "metadata": {
  "kernelspec": {
   "display_name": "Python 3",
   "language": "python",
   "name": "python3"
  },
  "language_info": {
   "codemirror_mode": {
    "name": "ipython",
    "version": 3
   },
   "file_extension": ".py",
   "mimetype": "text/x-python",
   "name": "python",
   "nbconvert_exporter": "python",
   "pygments_lexer": "ipython3",
   "version": "3.7.0"
  }
 },
 "nbformat": 4,
 "nbformat_minor": 4
}
